{
  "nbformat": 4,
  "nbformat_minor": 0,
  "metadata": {
    "colab": {
      "provenance": []
    },
    "kernelspec": {
      "name": "python3",
      "display_name": "Python 3"
    },
    "language_info": {
      "name": "python"
    }
  },
  "cells": [
    {
      "cell_type": "code",
      "source": [
        "top_side_length = 10  # 上辺の長さ(cm)\n",
        "bottom_side_length = 20  # 下辺の長さ(cm)\n",
        "height = 5  # 高さ(cm)\n",
        "area = (top_side_length + bottom_side_length) * height * (1 / 2)\n",
        "\n",
        "print(f'台形の面積は{area}(cm\\u00B2)です。')\n"
      ],
      "metadata": {
        "colab": {
          "base_uri": "https://localhost:8080/"
        },
        "id": "3m7SwY37ljbs",
        "outputId": "7e6a9af5-296a-4452-90ff-3fa8499e676f"
      },
      "execution_count": 18,
      "outputs": [
        {
          "output_type": "stream",
          "name": "stdout",
          "text": [
            "台形の面積は75.0(cm²)です。\n"
          ]
        }
      ]
    }
  ]
}