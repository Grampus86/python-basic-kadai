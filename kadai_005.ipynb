{
  "nbformat": 4,
  "nbformat_minor": 0,
  "metadata": {
    "colab": {
      "provenance": []
    },
    "kernelspec": {
      "name": "python3",
      "display_name": "Python 3"
    },
    "language_info": {
      "name": "python"
    }
  },
  "cells": [
    {
      "cell_type": "code",
      "source": [
        "top_side_length = 10 # 上辺の長さ(cm)\n",
        "bottom_side_length = 20 # 下辺の長さ(cm)\n",
        "height = 5 # 高さ(cm)\n",
        "area = (top_side_length+bottom_side_length)*height*(1/2)\n",
        "\n",
        "print(f'台形の面積は{area}(cm2)です。')"
      ],
      "metadata": {
        "colab": {
          "base_uri": "https://localhost:8080/"
        },
        "id": "3m7SwY37ljbs",
        "outputId": "6865c460-510d-4654-899c-608a43afb702"
      },
      "execution_count": 10,
      "outputs": [
        {
          "output_type": "stream",
          "name": "stdout",
          "text": [
            "台形の面積は75.0(cm2)です\n"
          ]
        }
      ]
    }
  ]
}